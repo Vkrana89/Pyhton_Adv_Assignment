{
 "cells": [
  {
   "cell_type": "markdown",
   "id": "4e7810bb",
   "metadata": {},
   "source": [
    "Q1. Describe three applications for exception processing.\n",
    "\n",
    "Q2. What happens if you don&#39;t do something extra to treat an exception?\n",
    "\n",
    "Q3. What are your options for recovering from an exception in your script?\n",
    "\n",
    "Q4. Describe two methods for triggering exceptions in your script.\n",
    "\n",
    "Q5. Identify two methods for specifying actions to be executed at termination time, regardless of\n",
    "whether or not an exception exists."
   ]
  },
  {
   "cell_type": "markdown",
   "id": "d7bb645e",
   "metadata": {},
   "source": [
    "#1\n",
    "Exception processing in Python has several applications, including:\n",
    "\n",
    "Error handling: Exceptions are commonly used to handle and manage errors that occur during the execution of a program. By using try-except blocks, you can catch and handle specific exceptions, allowing your program to gracefully recover from errors and continue executing.\n",
    "\n",
    "Input validation: Exceptions can be used to validate user input or data input from external sources. If the input doesn't meet certain criteria or is in an invalid format, you can raise an exception and handle it accordingly.\n",
    "\n",
    "Resource management: Exceptions are useful for managing resources such as file handling, database connections, or network connections. By using try-finally or try-except-finally blocks, you can ensure that resources are properly released and cleaned up, even if an exception occurs."
   ]
  },
  {
   "cell_type": "markdown",
   "id": "b1b59e85",
   "metadata": {},
   "source": [
    "#2\n",
    "If an exception occurs and you don't handle it or do something extra to treat it, the exception will propagate up the call stack until it reaches the nearest exception handler or the program terminates. This can lead to the program displaying an error message or traceback and terminating abruptly. Any code following the point of the exception occurrence will not be executed."
   ]
  },
  {
   "cell_type": "markdown",
   "id": "43c3ca6d",
   "metadata": {},
   "source": [
    "#3\n",
    "\n",
    "When an exception occurs in your script, you have several options for recovering from it:\n",
    "\n",
    "Handling the exception with a try-except block: You can catch specific exceptions using a try-except block and provide alternate code to handle the exception. This allows you to gracefully recover from the exception and continue executing the remaining code.\n",
    "\n",
    "Raising a different exception: Within an except block, you can raise a different exception to indicate a higher-level error or to provide more specific information about the failure.\n",
    "\n",
    "Logging and reporting: You can log the exception details and report them to a logging system or to the user. This can help in debugging and identifying issues in the code.\n",
    "\n",
    "Graceful termination: In some cases, it may not be possible or desirable to recover from an exception. In such cases, you can let the exception propagate up the call stack and terminate the program gracefully, ensuring any necessary cleanup or resource release happens before termination."
   ]
  },
  {
   "cell_type": "markdown",
   "id": "fdb316c7",
   "metadata": {},
   "source": [
    "#4\n",
    "\n",
    "here are various methods for triggering exceptions in your script:\n",
    "\n",
    "Using the raise statement: You can explicitly raise exceptions at any point in your code using the raise statement. This allows you to create and raise your custom exceptions or raise built-in exceptions provided by Python.\n",
    "\n",
    "Invoking built-in functions or methods that raise exceptions: Certain built-in functions or methods in Python raise specific exceptions based on certain conditions. For example, calling open() on a non-existent file raises a FileNotFoundError, or dividing a number by zero raises a ZeroDivisionError."
   ]
  },
  {
   "cell_type": "markdown",
   "id": "f10f3d1d",
   "metadata": {},
   "source": [
    "#5\n",
    "\n",
    "Two methods for specifying actions to be executed at termination time, regardless of whether or not an exception exists are:\n",
    "\n",
    "Using the finally block: The finally block is used in conjunction with a try-except block and allows you to specify code that will always be executed, regardless of whether an exception occurs or is caught. This is useful for performing necessary cleanup or releasing resources, ensuring that certain actions are taken regardless of the program's execution path.\n",
    "\n",
    "Using the atexit module: The atexit module provides a way to register functions that will be called when the program exits, whether through normal execution or due to an unhandled exception. By using the atexit.register() function, you can specify one or more functions to be executed at program termination, allowing you to perform cleanup tasks or final actions before the program exits."
   ]
  },
  {
   "cell_type": "markdown",
   "id": "20ba3e62",
   "metadata": {},
   "source": []
  },
  {
   "cell_type": "markdown",
   "id": "d5290096",
   "metadata": {},
   "source": []
  },
  {
   "cell_type": "markdown",
   "id": "730b952a",
   "metadata": {},
   "source": []
  },
  {
   "cell_type": "markdown",
   "id": "7a80eeca",
   "metadata": {},
   "source": []
  },
  {
   "cell_type": "markdown",
   "id": "c41e7249",
   "metadata": {},
   "source": []
  }
 ],
 "metadata": {
  "kernelspec": {
   "display_name": "Python 3 (ipykernel)",
   "language": "python",
   "name": "python3"
  },
  "language_info": {
   "codemirror_mode": {
    "name": "ipython",
    "version": 3
   },
   "file_extension": ".py",
   "mimetype": "text/x-python",
   "name": "python",
   "nbconvert_exporter": "python",
   "pygments_lexer": "ipython3",
   "version": "3.10.9"
  }
 },
 "nbformat": 4,
 "nbformat_minor": 5
}
