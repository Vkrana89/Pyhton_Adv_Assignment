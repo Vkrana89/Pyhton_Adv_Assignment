{
 "cells": [
  {
   "cell_type": "code",
   "execution_count": null,
   "id": "319f3740",
   "metadata": {},
   "outputs": [],
   "source": [
    "1. What are the new features added in Python 3.8 version?\n",
    "2. What is monkey patching in Python?\n",
    "3. What is the difference between a shallow copy and deep copy?\n",
    "4. What is the maximum possible length of an identifier?\n",
    "5. What is generator comprehension?"
   ]
  },
  {
   "cell_type": "markdown",
   "id": "085cafa1",
   "metadata": {},
   "source": [
    "#1\n",
    "Python 3.8 introduced several new features, including:\n",
    "Assignment Expressions (the \"Walrus operator\"): This allows you to assign values to variables within expressions using the := operator.\n",
    "Positional-only Parameters: You can now specify function parameters that can only be passed by position and not by keyword.\n",
    "f-strings support the = specifier: This allows you to include the value of an expression in the resulting string while also displaying the expression itself.\n",
    "The math.prod() function: This function calculates the product of all the elements in an iterable.\n",
    "The statistics.mode() function: This function calculates the mode (most common value) in a sequence of numbers.\n",
    "Syntax Warning for Unreachable Code: Python 3.8 added a new syntax warning for code that is never executed."
   ]
  },
  {
   "cell_type": "raw",
   "id": "d2afe5c5",
   "metadata": {},
   "source": [
    "#2\n",
    "\n",
    "Monkey patching in Python refers to the practice of modifying or extending existing code at runtime, usually by adding, replacing, or modifying methods or attributes of objects. It allows you to change the behavior of existing code without directly modifying the original source code.\n",
    "Monkey patching is possible in Python because the language allows objects to be modified dynamically. You can add new methods or attributes to classes or replace existing ones by assigning new values to them. Monkey patching can be useful in certain scenarios, such as fixing bugs or extending the functionality of third-party libraries.\n",
    "\n",
    "However, it's important to use monkey patching judiciously and with caution, as it can make code harder to understand, maintain, and debug. It's generally recommended to favor explicit and controlled modifications over monkey patching whenever possible."
   ]
  },
  {
   "cell_type": "raw",
   "id": "de4c0ebd",
   "metadata": {},
   "source": [
    "#3\n",
    "The difference between a shallow copy and a deep copy relates to how objects are copied and whether the copied object references the same or different underlying data.\n",
    "Shallow copy: A shallow copy creates a new object but references the same elements as the original object. If the elements are mutable, changes made to the elements in the copy will also be reflected in the original object and vice versa. Python provides the copy() function or the shallow copy method copy.copy() to create shallow copies of objects.\n",
    "\n",
    "Deep copy: A deep copy creates a new object and recursively copies the elements of the original object, creating separate copies of each element. Changes made to the elements in the copy will not affect the original object, and vice versa. Python provides the deepcopy() function or the deep copy method copy.deepcopy() to create deep copies of objects.\n",
    "\n",
    "In summary, a shallow copy creates a new object with references to the same elements, while a deep copy creates a new object with separate copies of the elements."
   ]
  },
  {
   "cell_type": "raw",
   "id": "1815a418",
   "metadata": {},
   "source": [
    "#4\n",
    "\n",
    "In Python, the maximum possible length of an identifier (variable name, function name, etc.) is not explicitly defined. However, the Python style guide (PEP 8) recommends keeping identifiers reasonably short (less than 79 characters) for readability purposes.\n",
    "Python allows identifiers to be arbitrarily long, but extremely long identifiers can make code harder to read and maintain. It's generally recommended to choose meaningful and descriptive names that convey the purpose and intent of the variable or function while keeping them concise and readable."
   ]
  },
  {
   "cell_type": "raw",
   "id": "7346b16e",
   "metadata": {},
   "source": [
    "#5\n",
    "\n",
    "Generator comprehension, also known as generator expression, is a concise way to create and define generators in Python. It is similar to list comprehensions but returns a generator object instead of a list.\n",
    "A generator comprehension is enclosed within parentheses () instead of square brackets []. It allows you to define and generate elements on-the-fly without creating the entire sequence in memory at once, making it memory-efficient for large or infinite sequences."
   ]
  },
  {
   "cell_type": "code",
   "execution_count": null,
   "id": "16cad48a",
   "metadata": {},
   "outputs": [],
   "source": []
  },
  {
   "cell_type": "code",
   "execution_count": null,
   "id": "a002e4ab",
   "metadata": {},
   "outputs": [],
   "source": []
  },
  {
   "cell_type": "code",
   "execution_count": null,
   "id": "c2b9cfec",
   "metadata": {},
   "outputs": [],
   "source": []
  },
  {
   "cell_type": "code",
   "execution_count": null,
   "id": "16ea0f6f",
   "metadata": {},
   "outputs": [],
   "source": []
  },
  {
   "cell_type": "code",
   "execution_count": null,
   "id": "306fa77a",
   "metadata": {},
   "outputs": [],
   "source": []
  },
  {
   "cell_type": "code",
   "execution_count": null,
   "id": "3b6455cf",
   "metadata": {},
   "outputs": [],
   "source": []
  }
 ],
 "metadata": {
  "kernelspec": {
   "display_name": "Python 3 (ipykernel)",
   "language": "python",
   "name": "python3"
  },
  "language_info": {
   "codemirror_mode": {
    "name": "ipython",
    "version": 3
   },
   "file_extension": ".py",
   "mimetype": "text/x-python",
   "name": "python",
   "nbconvert_exporter": "python",
   "pygments_lexer": "ipython3",
   "version": "3.10.9"
  }
 },
 "nbformat": 4,
 "nbformat_minor": 5
}
