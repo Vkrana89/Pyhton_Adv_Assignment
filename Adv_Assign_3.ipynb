{
 "cells": [
  {
   "cell_type": "markdown",
   "id": "b05ba2d3",
   "metadata": {},
   "source": [
    "1. What is the concept of an abstract superclass?\n",
    "\n",
    "2. What happens when a class statement&#39;s top level contains a basic assignment statement?\n",
    "\n",
    "3. Why does a class need to manually call a superclass&#39;s __init__ method?\n",
    "\n",
    "4. How can you augment, instead of completely replacing, an inherited method?\n",
    "\n",
    "5. How is the local scope of a class different from that of a function?"
   ]
  },
  {
   "cell_type": "markdown",
   "id": "df8db8be",
   "metadata": {},
   "source": [
    "#1\n",
    "The concept of an abstract superclass refers to a class that is designed to be inherited from but not instantiated directly. It serves as a blueprint for its subclasses, providing common attributes, methods, and behavior that can be inherited and overridden. An abstract superclass often contains abstract methods, which are declared but not implemented in the superclass itself. Subclasses are responsible for implementing these abstract methods according to their specific requirements. Abstract superclasses provide a way to define common interfaces and behaviors for related classes while enforcing consistency and modularity in code design."
   ]
  },
  {
   "cell_type": "markdown",
   "id": "9d556bab",
   "metadata": {},
   "source": [
    "#2\n",
    "When a class statement's top level contains a basic assignment statement, it creates a class-level attribute. This means that the assigned value becomes an attribute of the class itself, shared by all instances of the class. This attribute can be accessed using the class name or any instance of the class. It is similar to a static variable in other programming languages."
   ]
  },
  {
   "cell_type": "markdown",
   "id": "db8c73c8",
   "metadata": {},
   "source": [
    "#3\n",
    "\n",
    "A class needs to manually call a superclass's __init__ method when it wants to initialize the attributes and behavior inherited from the superclass. By calling the superclass's __init__ method, the subclass can leverage the initialization logic defined in the superclass, ensuring that the inherited attributes are properly initialized. This is typically done using the super() function within the subclass's __init__ method."
   ]
  },
  {
   "cell_type": "markdown",
   "id": "df07f1f8",
   "metadata": {},
   "source": [
    "#4\n",
    "o augment (rather than completely replace) an inherited method, you can override the method in the subclass and call the superclass's method within it. This can be achieved by using the super() function to access the superclass's implementation of the method. By doing so, you can extend or modify the behavior of the inherited method without losing the functionality provided by the superclass."
   ]
  },
  {
   "cell_type": "markdown",
   "id": "5f05a543",
   "metadata": {},
   "source": [
    "#5\n",
    "The local scope of a class and a function differ in the context they operate within:\n",
    "Local scope in a class: The local scope of a class refers to the namespace within the class definition. It consists of the class's attributes, methods, and any local variables defined within the methods. Attributes and methods are accessed using the self keyword within the class.\n",
    "\n",
    "Local scope in a function: The local scope of a function refers to the namespace within the function definition. It consists of variables defined within the function itself, including function parameters and any local variables declared within the function body. Variables in the local scope of a function are accessible only within that function."
   ]
  },
  {
   "cell_type": "markdown",
   "id": "2c48ea8c",
   "metadata": {},
   "source": []
  },
  {
   "cell_type": "markdown",
   "id": "e375dbba",
   "metadata": {},
   "source": []
  },
  {
   "cell_type": "markdown",
   "id": "2acfdc47",
   "metadata": {},
   "source": []
  },
  {
   "cell_type": "markdown",
   "id": "cd89c852",
   "metadata": {},
   "source": []
  }
 ],
 "metadata": {
  "kernelspec": {
   "display_name": "Python 3 (ipykernel)",
   "language": "python",
   "name": "python3"
  },
  "language_info": {
   "codemirror_mode": {
    "name": "ipython",
    "version": 3
   },
   "file_extension": ".py",
   "mimetype": "text/x-python",
   "name": "python",
   "nbconvert_exporter": "python",
   "pygments_lexer": "ipython3",
   "version": "3.10.9"
  }
 },
 "nbformat": 4,
 "nbformat_minor": 5
}
