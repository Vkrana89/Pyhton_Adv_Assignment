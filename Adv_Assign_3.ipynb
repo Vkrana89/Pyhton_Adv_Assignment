{
 "cells": [
  {
   "cell_type": "code",
   "execution_count": null,
   "id": "4d0a3ab2",
   "metadata": {},
   "outputs": [],
   "source": [
    "1. What is the concept of an abstract superclass?\n",
    "\n",
    "2. What happens when a class statement&#39;s top level contains a basic assignment statement?\n",
    "\n",
    "3. Why does a class need to manually call a superclass&#39;s __init__ method?\n",
    "\n",
    "4. How can you augment, instead of completely replacing, an inherited method?\n",
    "\n",
    "5. How is the local scope of a class different from that of a function?"
   ]
  },
  {
   "cell_type": "raw",
   "id": "1c3d5138",
   "metadata": {},
   "source": [
    "#1\n",
    "The concept of an abstract superclass refers to a class that is designed to be inherited from but not instantiated directly. It serves as a blueprint for its subclasses, providing common attributes, methods, and behavior that can be inherited and overridden. An abstract superclass often contains abstract methods, which are declared but not implemented in the superclass itself. Subclasses are responsible for implementing these abstract methods according to their specific requirements. Abstract superclasses provide a way to define common interfaces and behaviors for related classes while enforcing consistency and modularity in code design."
   ]
  },
  {
   "cell_type": "raw",
   "id": "3dbb2484",
   "metadata": {},
   "source": [
    "#2\n",
    "When a class statement's top level contains a basic assignment statement, it creates a class-level attribute. This means that the assigned value becomes an attribute of the class itself, shared by all instances of the class. This attribute can be accessed using the class name or any instance of the class. It is similar to a static variable in other programming languages."
   ]
  },
  {
   "cell_type": "raw",
   "id": "d53ac5ff",
   "metadata": {},
   "source": [
    "#3\n",
    "\n",
    "A class needs to manually call a superclass's __init__ method when it wants to initialize the attributes and behavior inherited from the superclass. By calling the superclass's __init__ method, the subclass can leverage the initialization logic defined in the superclass, ensuring that the inherited attributes are properly initialized. This is typically done using the super() function within the subclass's __init__ method."
   ]
  },
  {
   "cell_type": "raw",
   "id": "02373617",
   "metadata": {},
   "source": [
    "#4\n",
    "o augment (rather than completely replace) an inherited method, you can override the method in the subclass and call the superclass's method within it. This can be achieved by using the super() function to access the superclass's implementation of the method. By doing so, you can extend or modify the behavior of the inherited method without losing the functionality provided by the superclass."
   ]
  },
  {
   "cell_type": "raw",
   "id": "9aa491ae",
   "metadata": {},
   "source": [
    "#5\n",
    "The local scope of a class and a function differ in the context they operate within:\n",
    "Local scope in a class: The local scope of a class refers to the namespace within the class definition. It consists of the class's attributes, methods, and any local variables defined within the methods. Attributes and methods are accessed using the self keyword within the class.\n",
    "\n",
    "Local scope in a function: The local scope of a function refers to the namespace within the function definition. It consists of variables defined within the function itself, including function parameters and any local variables declared within the function body. Variables in the local scope of a function are accessible only within that function."
   ]
  },
  {
   "cell_type": "code",
   "execution_count": null,
   "id": "efdb226c",
   "metadata": {},
   "outputs": [],
   "source": []
  },
  {
   "cell_type": "code",
   "execution_count": null,
   "id": "c1fb5a43",
   "metadata": {},
   "outputs": [],
   "source": []
  },
  {
   "cell_type": "code",
   "execution_count": null,
   "id": "bc148389",
   "metadata": {},
   "outputs": [],
   "source": []
  },
  {
   "cell_type": "code",
   "execution_count": null,
   "id": "5b7d1420",
   "metadata": {},
   "outputs": [],
   "source": []
  }
 ],
 "metadata": {
  "kernelspec": {
   "display_name": "Python 3 (ipykernel)",
   "language": "python",
   "name": "python3"
  },
  "language_info": {
   "codemirror_mode": {
    "name": "ipython",
    "version": 3
   },
   "file_extension": ".py",
   "mimetype": "text/x-python",
   "name": "python",
   "nbconvert_exporter": "python",
   "pygments_lexer": "ipython3",
   "version": "3.10.9"
  }
 },
 "nbformat": 4,
 "nbformat_minor": 5
}
