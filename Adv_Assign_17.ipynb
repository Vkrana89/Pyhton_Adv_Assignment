{
 "cells": [
  {
   "cell_type": "raw",
   "id": "53ed264d",
   "metadata": {},
   "source": [
    "Q1. Explain the difference between greedy and non-greedy syntax with visual terms in as few words\n",
    "as possible. What is the bare minimum effort required to transform a greedy pattern into a non-greedy\n",
    "one? What characters or characters can you introduce or change?\n",
    "\n",
    "Q2. When exactly does greedy versus non-greedy make a difference?  What if you&#39;re looking for a\n",
    "non-greedy match but the only one available is greedy?\n",
    "\n",
    "Q3. In a simple match of a string, which looks only for one match and does not do any replacement, is\n",
    "the use of a nontagged group likely to make any practical difference?\n",
    "\n",
    "Q4. Describe a scenario in which using a nontagged category would have a significant impact on the\n",
    "program&#39;s outcomes.\n",
    "\n",
    "Q5. Unlike a normal regex pattern, a look-ahead condition does not consume the characters it\n",
    "examines. Describe a situation in which this could make a difference in the results of your\n",
    "programme.\n",
    "\n",
    "Q6. In standard expressions, what is the difference between positive look-ahead and negative look-\n",
    "ahead?\n",
    "\n",
    "Q7. What is the benefit of referring to groups by name rather than by number in a standard\n",
    "expression?\n",
    "\n",
    "Q8. Can you identify repeated items within a target string using named groups, as in &quot;The cow\n",
    "jumped over the moon&quot;?\n",
    "\n",
    "Q9. When parsing a string, what is at least one thing that the Scanner interface does for you that the\n",
    "re.findall feature does not?\n",
    "\n",
    "Q10. Does a scanner object have to be named scanner?"
   ]
  },
  {
   "cell_type": "raw",
   "id": "caa5fc39",
   "metadata": {},
   "source": [
    "#1\n",
    "Greedy syntax matches as much as possible, while non-greedy syntax matches as little as possible. To transform a greedy pattern into a non-greedy one, you can introduce a question mark (?) after the quantifier. For example, changing \"a+\" to \"a+?\" makes it non-greedy."
   ]
  },
  {
   "cell_type": "raw",
   "id": "b03084d1",
   "metadata": {},
   "source": [
    "#2\n",
    "Greedy versus non-greedy makes a difference when there are multiple possible matches in the target string. If you're looking for a non-greedy match but the only available option is greedy, the greedy match will be chosen. In such cases, you may need to modify your pattern to make it non-greedy or consider alternative approaches."
   ]
  },
  {
   "cell_type": "raw",
   "id": "b70e7c0c",
   "metadata": {},
   "source": [
    "#3\n",
    "In a simple match without replacement, the use of a non-tagged group (a group without capturing parentheses) may not make a practical difference. Non-tagged groups are typically used for grouping purposes and don't capture the matched substring for further use or retrieval."
   ]
  },
  {
   "cell_type": "raw",
   "id": "04c5a02b",
   "metadata": {},
   "source": [
    "#4\n",
    " A significant impact of using a non-tagged category can occur in scenarios where you want to group expressions for applying quantifiers or alternations but don't need to capture the matched substrings. This can lead to improved performance and reduced memory usage when working with large amounts of text or in cases where capturing the substrings is unnecessary."
   ]
  },
  {
   "cell_type": "raw",
   "id": "b151b849",
   "metadata": {},
   "source": [
    "#5\n",
    " Look-ahead conditions in regular expressions allow you to assert whether a pattern is followed or not followed by another pattern, without consuming the characters being examined. This can make a difference in situations where you need to validate a specific condition but don't want to include the validated characters in the final match or capture."
   ]
  },
  {
   "cell_type": "raw",
   "id": "f98dcac7",
   "metadata": {},
   "source": [
    "#6\n",
    "Positive look-ahead ((?=...)) asserts that the pattern inside the look-ahead must be present after the current position, without including it in the match. Negative look-ahead ((?!...)) asserts that the pattern inside the look-ahead must not be present after the current position. Positive look-ahead checks for a match, while negative look-ahead checks for a non-match."
   ]
  },
  {
   "cell_type": "raw",
   "id": "386af0c3",
   "metadata": {},
   "source": [
    "#7\n",
    "Referring to groups by name rather than by number in a standard expression improves code readability and maintainability. It makes the regular expression more self-explanatory, especially when dealing with complex patterns with multiple groups. Named groups also allow you to access the captured substrings using their meaningful names instead of relying on numerical indices."
   ]
  },
  {
   "cell_type": "raw",
   "id": "a0c9debf",
   "metadata": {},
   "source": [
    "#8\n",
    "\n",
    "Yes, you can identify repeated items within a target string using named groups. For example, using the pattern (?P<word>\\w+)\\s+(?P=word) will match repeated words separated by whitespace. The named group word captures the first word, and the backreference (?P=word) ensures that the same word is repeated."
   ]
  },
  {
   "cell_type": "raw",
   "id": "4eac17d5",
   "metadata": {},
   "source": [
    "#9\n",
    "\n",
    "When parsing a string, the Scanner interface provides token-based parsing capabilities, allowing you to iterate over the string and extract tokens based on specified patterns. It separates the process of scanning and tokenizing the string from the pattern matching performed by re.findall(). The Scanner interface offers more control and flexibility in parsing complex input strings, handling different token types, and managing stateful parsing operations."
   ]
  },
  {
   "cell_type": "raw",
   "id": "43d08bd5",
   "metadata": {},
   "source": [
    "#10\n",
    "\n",
    "No, a Scanner object does not have to be named \"scanner.\" The name of the Scanner object is arbitrary and can be chosen according to your preference and code readability."
   ]
  },
  {
   "cell_type": "raw",
   "id": "a7f5357e",
   "metadata": {},
   "source": []
  },
  {
   "cell_type": "raw",
   "id": "8ac1c149",
   "metadata": {},
   "source": []
  },
  {
   "cell_type": "raw",
   "id": "838e8c0d",
   "metadata": {},
   "source": []
  },
  {
   "cell_type": "raw",
   "id": "b8aaa17f",
   "metadata": {},
   "source": []
  },
  {
   "cell_type": "raw",
   "id": "b942c3b5",
   "metadata": {},
   "source": []
  },
  {
   "cell_type": "raw",
   "id": "fe025e77",
   "metadata": {},
   "source": []
  },
  {
   "cell_type": "raw",
   "id": "732e6fdb",
   "metadata": {},
   "source": []
  },
  {
   "cell_type": "raw",
   "id": "b88c6f17",
   "metadata": {},
   "source": []
  },
  {
   "cell_type": "raw",
   "id": "3ae72362",
   "metadata": {},
   "source": []
  },
  {
   "cell_type": "raw",
   "id": "d0ee284b",
   "metadata": {},
   "source": []
  }
 ],
 "metadata": {
  "kernelspec": {
   "display_name": "Python 3 (ipykernel)",
   "language": "python",
   "name": "python3"
  },
  "language_info": {
   "codemirror_mode": {
    "name": "ipython",
    "version": 3
   },
   "file_extension": ".py",
   "mimetype": "text/x-python",
   "name": "python",
   "nbconvert_exporter": "python",
   "pygments_lexer": "ipython3",
   "version": "3.10.9"
  }
 },
 "nbformat": 4,
 "nbformat_minor": 5
}
