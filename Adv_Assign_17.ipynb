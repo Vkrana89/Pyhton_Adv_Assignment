{
 "cells": [
  {
   "cell_type": "markdown",
   "id": "3bff9370",
   "metadata": {},
   "source": [
    "Q1. Explain the difference between greedy and non-greedy syntax with visual terms in as few words\n",
    "as possible. What is the bare minimum effort required to transform a greedy pattern into a non-greedy\n",
    "one? What characters or characters can you introduce or change?\n",
    "\n",
    "Q2. When exactly does greedy versus non-greedy make a difference?  What if you&#39;re looking for a\n",
    "non-greedy match but the only one available is greedy?\n",
    "\n",
    "Q3. In a simple match of a string, which looks only for one match and does not do any replacement, is\n",
    "the use of a nontagged group likely to make any practical difference?\n",
    "\n",
    "Q4. Describe a scenario in which using a nontagged category would have a significant impact on the\n",
    "program&#39;s outcomes.\n",
    "\n",
    "Q5. Unlike a normal regex pattern, a look-ahead condition does not consume the characters it\n",
    "examines. Describe a situation in which this could make a difference in the results of your\n",
    "programme.\n",
    "\n",
    "Q6. In standard expressions, what is the difference between positive look-ahead and negative look-\n",
    "ahead?\n",
    "\n",
    "Q7. What is the benefit of referring to groups by name rather than by number in a standard\n",
    "expression?\n",
    "\n",
    "Q8. Can you identify repeated items within a target string using named groups, as in &quot;The cow\n",
    "jumped over the moon&quot;?\n",
    "\n",
    "Q9. When parsing a string, what is at least one thing that the Scanner interface does for you that the\n",
    "re.findall feature does not?\n",
    "\n",
    "Q10. Does a scanner object have to be named scanner?"
   ]
  },
  {
   "cell_type": "markdown",
   "id": "2a018568",
   "metadata": {},
   "source": [
    "#1\n",
    "Greedy syntax matches as much as possible, while non-greedy syntax matches as little as possible. To transform a greedy pattern into a non-greedy one, you can introduce a question mark (?) after the quantifier. For example, changing \"a+\" to \"a+?\" makes it non-greedy."
   ]
  },
  {
   "cell_type": "markdown",
   "id": "04995bb3",
   "metadata": {},
   "source": [
    "#2\n",
    "Greedy versus non-greedy makes a difference when there are multiple possible matches in the target string. If you're looking for a non-greedy match but the only available option is greedy, the greedy match will be chosen. In such cases, you may need to modify your pattern to make it non-greedy or consider alternative approaches."
   ]
  },
  {
   "cell_type": "markdown",
   "id": "fb9951f1",
   "metadata": {},
   "source": [
    "#3\n",
    "In a simple match without replacement, the use of a non-tagged group (a group without capturing parentheses) may not make a practical difference. Non-tagged groups are typically used for grouping purposes and don't capture the matched substring for further use or retrieval."
   ]
  },
  {
   "cell_type": "markdown",
   "id": "192415ce",
   "metadata": {},
   "source": [
    "#4\n",
    " A significant impact of using a non-tagged category can occur in scenarios where you want to group expressions for applying quantifiers or alternations but don't need to capture the matched substrings. This can lead to improved performance and reduced memory usage when working with large amounts of text or in cases where capturing the substrings is unnecessary."
   ]
  },
  {
   "cell_type": "markdown",
   "id": "76b4f0a6",
   "metadata": {},
   "source": [
    "#5\n",
    " Look-ahead conditions in regular expressions allow you to assert whether a pattern is followed or not followed by another pattern, without consuming the characters being examined. This can make a difference in situations where you need to validate a specific condition but don't want to include the validated characters in the final match or capture."
   ]
  },
  {
   "cell_type": "markdown",
   "id": "18ba42f2",
   "metadata": {},
   "source": [
    "#6\n",
    "Positive look-ahead ((?=...)) asserts that the pattern inside the look-ahead must be present after the current position, without including it in the match. Negative look-ahead ((?!...)) asserts that the pattern inside the look-ahead must not be present after the current position. Positive look-ahead checks for a match, while negative look-ahead checks for a non-match."
   ]
  },
  {
   "cell_type": "markdown",
   "id": "29ba990e",
   "metadata": {},
   "source": [
    "#7\n",
    "Referring to groups by name rather than by number in a standard expression improves code readability and maintainability. It makes the regular expression more self-explanatory, especially when dealing with complex patterns with multiple groups. Named groups also allow you to access the captured substrings using their meaningful names instead of relying on numerical indices."
   ]
  },
  {
   "cell_type": "markdown",
   "id": "e2c6745a",
   "metadata": {},
   "source": [
    "#8\n",
    "\n",
    "Yes, you can identify repeated items within a target string using named groups. For example, using the pattern (?P<word>\\w+)\\s+(?P=word) will match repeated words separated by whitespace. The named group word captures the first word, and the backreference (?P=word) ensures that the same word is repeated."
   ]
  },
  {
   "cell_type": "markdown",
   "id": "f2c337f3",
   "metadata": {},
   "source": [
    "#9\n",
    "\n",
    "When parsing a string, the Scanner interface provides token-based parsing capabilities, allowing you to iterate over the string and extract tokens based on specified patterns. It separates the process of scanning and tokenizing the string from the pattern matching performed by re.findall(). The Scanner interface offers more control and flexibility in parsing complex input strings, handling different token types, and managing stateful parsing operations."
   ]
  },
  {
   "cell_type": "markdown",
   "id": "1981bebf",
   "metadata": {},
   "source": [
    "#10\n",
    "\n",
    "No, a Scanner object does not have to be named \"scanner.\" The name of the Scanner object is arbitrary and can be chosen according to your preference and code readability."
   ]
  },
  {
   "cell_type": "markdown",
   "id": "df4e6a47",
   "metadata": {},
   "source": []
  },
  {
   "cell_type": "markdown",
   "id": "4c48c6ec",
   "metadata": {},
   "source": []
  },
  {
   "cell_type": "markdown",
   "id": "11e4dd88",
   "metadata": {},
   "source": []
  },
  {
   "cell_type": "markdown",
   "id": "5aeb3627",
   "metadata": {},
   "source": []
  },
  {
   "cell_type": "markdown",
   "id": "c9e6bd32",
   "metadata": {},
   "source": []
  },
  {
   "cell_type": "markdown",
   "id": "972ecb4f",
   "metadata": {},
   "source": []
  },
  {
   "cell_type": "markdown",
   "id": "b7d253d5",
   "metadata": {},
   "source": []
  },
  {
   "cell_type": "markdown",
   "id": "867ac885",
   "metadata": {},
   "source": []
  },
  {
   "cell_type": "markdown",
   "id": "46ce1f56",
   "metadata": {},
   "source": []
  },
  {
   "cell_type": "markdown",
   "id": "d655bdfc",
   "metadata": {},
   "source": []
  }
 ],
 "metadata": {
  "kernelspec": {
   "display_name": "Python 3 (ipykernel)",
   "language": "python",
   "name": "python3"
  },
  "language_info": {
   "codemirror_mode": {
    "name": "ipython",
    "version": 3
   },
   "file_extension": ".py",
   "mimetype": "text/x-python",
   "name": "python",
   "nbconvert_exporter": "python",
   "pygments_lexer": "ipython3",
   "version": "3.10.9"
  }
 },
 "nbformat": 4,
 "nbformat_minor": 5
}
