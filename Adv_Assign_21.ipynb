{
 "cells": [
  {
   "cell_type": "markdown",
   "id": "af01b6f3",
   "metadata": {},
   "source": [
    "Q1. What is a probability distribution, exactly? If the values are meant to be random, how can you\n",
    "predict them at all?\n",
    "\n",
    "Q2. Is there a distinction between true random numbers and pseudo-random numbers, if there is\n",
    "one? Why are the latter considered “good enough”?\n",
    "\n",
    "Q3. What are the two main factors that influence the behaviour of a &quot;normal&quot; probability distribution?\n",
    "\n",
    "Q4. Provide a real-life example of a normal distribution.\n",
    "\n",
    "Q5. In the short term, how can you expect a probability distribution to behave? What do you think will\n",
    "happen as the number of trials grows?\n",
    "\n",
    "Q6. What kind of object can be shuffled by using random.shuffle?\n",
    "\n",
    "Q7. Describe the math package&#39;s general categories of functions.\n",
    "\n",
    "Q8. What is the relationship between exponentiation and logarithms?\n",
    "\n",
    "Q9. What are the three logarithmic functions that Python supports?"
   ]
  },
  {
   "cell_type": "markdown",
   "id": "55511a7c",
   "metadata": {},
   "source": [
    "#1\n",
    "\n",
    "In Python, a probability distribution can be represented using various statistical libraries such as NumPy or SciPy. These libraries provide functions to define and work with different probability distributions, such as the normal distribution, binomial distribution, or exponential distribution. While the individual values from a probability distribution may appear random, the distribution itself follows a defined mathematical function. By using the properties of the distribution, we can make predictions about the likelihood of different outcomes or events occurring."
   ]
  },
  {
   "cell_type": "markdown",
   "id": "8e2e8208",
   "metadata": {},
   "source": [
    "#2\n",
    "\n",
    "In Python, there is a distinction between true random numbers and pseudo-random numbers. The random module in Python provides functions to generate pseudo-random numbers using algorithms. These algorithms produce a sequence of numbers that appear random but are deterministic, meaning that given the same seed value, the sequence will be the same. Pseudo-random numbers are considered \"good enough\" for most purposes because they exhibit statistical properties of randomness, such as uniform distribution and independence between numbers. However, if true randomness is required, Python also provides the secrets module, which uses a cryptographic source to generate secure random numbers."
   ]
  },
  {
   "cell_type": "markdown",
   "id": "a2007498",
   "metadata": {},
   "source": [
    "#3\n",
    "\n",
    "The behavior of a \"normal\" probability distribution in Python is influenced by two main factors: the mean (μ) and the standard deviation (σ). The mean represents the center or average value of the distribution and can be set using the loc parameter in probability distribution functions. The standard deviation controls the spread or dispersion of values around the mean and can be set using the scale parameter. By adjusting the mean and standard deviation, you can create normal distributions with different characteristics."
   ]
  },
  {
   "cell_type": "markdown",
   "id": "3481b7c6",
   "metadata": {},
   "source": [
    "#4\n",
    "\n",
    "A real-life example of a normal distribution in Python could be the distribution of IQ scores in a population. IQ scores are often assumed to follow a normal distribution, where the majority of people have scores around the mean (usually set at 100), and fewer people have scores that deviate significantly from the mean. By using Python's statistical libraries, you can analyze and model the IQ score distribution, calculate probabilities for different ranges of scores, or generate random IQ scores following a normal distribution."
   ]
  },
  {
   "cell_type": "markdown",
   "id": "9a891420",
   "metadata": {},
   "source": [
    "#5\n",
    "In the short term, the behavior of a probability distribution can be unpredictable as individual outcomes may vary. However, as the number of trials or samples increases, the distribution tends to converge to its expected behavior. This is known as the law of large numbers, which states that the average of a large number of independent and identically distributed random variables tends to approach the expected value. As the number of trials grows, the distribution becomes more stable and follows the expected probabilities and patterns defined by the distribution function.\n"
   ]
  },
  {
   "cell_type": "markdown",
   "id": "abb6ba9a",
   "metadata": {},
   "source": [
    "#6\n",
    "\n",
    " In Python, the random.shuffle function can shuffle objects that are iterable, such as lists, tuples, or strings. It randomly rearranges the elements within the object, effectively changing their order. For example, you can use random.shuffle to randomly shuffle a list of numbers, a deck of cards represented as a list, or a string of characters."
   ]
  },
  {
   "cell_type": "markdown",
   "id": "f0090202",
   "metadata": {},
   "source": [
    "#7\n",
    "The math package in Python provides several categories of functions:\n",
    "\n",
    "Basic arithmetic functions: These include functions like math.sqrt for square root, math.pow for exponentiation, math.floor for flooring (rounding down), and math.ceil for ceiling (rounding up).\n",
    "Trigonometric functions: These include functions like math.sin, math.cos, and math.tan for calculating sine, cosine, and tangent of angles, respectively.\n",
    "Logarithmic functions: These include functions like math.log for natural logarithm, math.log10 for logarithm base 10, and math.log2 for logarithm base 2.\n",
    "Hyperbolic functions: These include functions like math.sinh, math.cosh, and math.tanh for hyperbolic sine, cosine, and tangent, respectively.\n",
    "Angular conversion functions: These include functions like math.radians for converting degrees to radians and math.degrees for converting radians to degrees.\n",
    "Constants: The math package also provides various mathematical constants such as math.pi for pi (π) and math.e for Euler's number (e)."
   ]
  },
  {
   "cell_type": "markdown",
   "id": "a2f74117",
   "metadata": {},
   "source": [
    "#8\n",
    "Exponentiation and logarithms are inverse operations of each other. If we have a number x raised to the power of y (x^y), the logarithm of that result with a given base will give us the exponent y. In mathematical notation:\n",
    "\n",
    "x^y = z --> log_base(x)(z) = y\n",
    "\n",
    "For example, if 2^3 = 8, then log_base(2)(8) = 3. In Python, you can use the math.pow function for exponentiation and the math.log function for logarithms.\n"
   ]
  },
  {
   "cell_type": "markdown",
   "id": "87e2573f",
   "metadata": {},
   "source": [
    "#9\n",
    "Python supports three logarithmic functions:\n",
    "\n",
    "math.log(x): This function computes the natural logarithm (base e) of x.\n",
    "math.log10(x): This function computes the logarithm base 10 of x.\n",
    "math.log2(x): This function computes the logarithm base 2 of x.\n"
   ]
  },
  {
   "cell_type": "markdown",
   "id": "72256801",
   "metadata": {},
   "source": []
  },
  {
   "cell_type": "markdown",
   "id": "d2c8d456",
   "metadata": {},
   "source": []
  },
  {
   "cell_type": "markdown",
   "id": "ba1127fd",
   "metadata": {},
   "source": []
  },
  {
   "cell_type": "markdown",
   "id": "1d6991de",
   "metadata": {},
   "source": []
  }
 ],
 "metadata": {
  "kernelspec": {
   "display_name": "Python 3 (ipykernel)",
   "language": "python",
   "name": "python3"
  },
  "language_info": {
   "codemirror_mode": {
    "name": "ipython",
    "version": 3
   },
   "file_extension": ".py",
   "mimetype": "text/x-python",
   "name": "python",
   "nbconvert_exporter": "python",
   "pygments_lexer": "ipython3",
   "version": "3.10.9"
  }
 },
 "nbformat": 4,
 "nbformat_minor": 5
}
