{
 "cells": [
  {
   "cell_type": "markdown",
   "id": "04ff59b9",
   "metadata": {},
   "source": [
    "Q1. What are the two latest user-defined exception constraints in Python 3.X?\n",
    "\n",
    "Q2. How are class-based exceptions that have been raised matched to handlers?\n",
    "\n",
    "Q3. Describe two methods for attaching context information to exception artefacts.\n",
    "\n",
    "Q4. Describe two methods for specifying the text of an exception object&#39;s error message.\n",
    "\n",
    "Q5. Why do you no longer use string-based exceptions?"
   ]
  },
  {
   "cell_type": "markdown",
   "id": "dab27aca",
   "metadata": {},
   "source": [
    "#1\n",
    "n Python 3.x, the two latest user-defined exception constraints are:\n",
    "\n",
    "The exception class must derive (directly or indirectly) from the built-in Exception class or one of its subclasses. This constraint ensures that user-defined exceptions are compatible with the exception hierarchy in Python.\n",
    "\n",
    "The exception class should typically include an __init__ method to initialize any custom attributes or data associated with the exception. This allows for customization and additional context information to be provided when raising and handling the exception."
   ]
  },
  {
   "cell_type": "markdown",
   "id": "4062ae18",
   "metadata": {},
   "source": [
    "#2\n",
    "\n",
    "Class-based exceptions that have been raised are matched to handlers based on the exception hierarchy and the order of the except blocks in the try-except statement. When an exception is raised, Python searches for an appropriate handler by traversing the inheritance hierarchy of the exception class. It starts with the most specific exception types and moves towards more general types until it finds a matching except block.\n",
    "\n",
    "If a matching except block is found, the corresponding code block is executed to handle the exception. If no matching except block is found, the exception propagates up the call stack, searching for a handler in the next higher-level try-except block or eventually terminating the program if no handler is found."
   ]
  },
  {
   "cell_type": "markdown",
   "id": "b4cbc3d5",
   "metadata": {},
   "source": [
    "#3\n",
    "\n",
    "Two methods for attaching context information to exception artifacts are:\n",
    "\n",
    "Including custom attributes in the exception class: By defining custom attributes in the user-defined exception class, you can attach additional context information to the exception object. These attributes can hold relevant data such as error codes, timestamps, user input, or any other information that helps in understanding the context in which the exception occurred.\n",
    "\n",
    "Using the __context__ attribute: The __context__ attribute is a special attribute in Python exceptions that allows you to attach a context exception to another exception. This can be useful when one exception is raised as a result of another exception. By setting the __context__ attribute of the new exception to the original exception, you provide additional context information and establish the causal relationship between the exceptions."
   ]
  },
  {
   "cell_type": "markdown",
   "id": "095d0b2a",
   "metadata": {},
   "source": [
    "#4\n",
    "\n",
    "Two methods for specifying the text of an exception object's error message are:\n",
    "\n",
    "Defining a custom __str__ method: By overriding the __str__ method in the exception class, you can provide a custom string representation for the exception object. This method should return a string that represents the error message or relevant information about the exception. When the exception is printed or converted to a string, this custom method is called to generate the error message.\n",
    "\n",
    "Passing an error message as an argument to the exception constructor: When raising an exception, you can pass an error message as an argument to the exception constructor. The error message can be a string or any other object that can be converted to a string. This allows you to provide specific information about the exception at the point of raising it, making the error message more informative and meaningful."
   ]
  },
  {
   "cell_type": "markdown",
   "id": "027c8e81",
   "metadata": {},
   "source": [
    "#5\n",
    "\n",
    "String-based exceptions are no longer used in Python because they have several limitations and drawbacks. The main reasons for not using string-based exceptions are:\n",
    "\n",
    "Lack of hierarchy and type checking: String-based exceptions don't provide a way to define an exception hierarchy or perform type checking. This makes it difficult to handle and distinguish between different types of exceptions accurately.\n",
    "\n",
    "Difficulty in catching specific exceptions: With string-based exceptions, it's challenging to catch specific exceptions based on their type or hierarchy. Instead, the handling code needs to rely on string comparisons, which can be error-prone and less efficient.\n",
    "\n",
    "Limited ability to attach additional context information: String-based exceptions lack a standardized way to attach additional context information to the exception object. This makes it harder to provide detailed information about the exception and diagnose the cause of the error."
   ]
  },
  {
   "cell_type": "markdown",
   "id": "351b5047",
   "metadata": {},
   "source": []
  },
  {
   "cell_type": "markdown",
   "id": "5bbe1c4c",
   "metadata": {},
   "source": []
  },
  {
   "cell_type": "markdown",
   "id": "31278f4f",
   "metadata": {},
   "source": []
  },
  {
   "cell_type": "markdown",
   "id": "065ff896",
   "metadata": {},
   "source": []
  },
  {
   "cell_type": "markdown",
   "id": "6263ae7c",
   "metadata": {},
   "source": []
  }
 ],
 "metadata": {
  "kernelspec": {
   "display_name": "Python 3 (ipykernel)",
   "language": "python",
   "name": "python3"
  },
  "language_info": {
   "codemirror_mode": {
    "name": "ipython",
    "version": 3
   },
   "file_extension": ".py",
   "mimetype": "text/x-python",
   "name": "python",
   "nbconvert_exporter": "python",
   "pygments_lexer": "ipython3",
   "version": "3.10.9"
  }
 },
 "nbformat": 4,
 "nbformat_minor": 5
}
