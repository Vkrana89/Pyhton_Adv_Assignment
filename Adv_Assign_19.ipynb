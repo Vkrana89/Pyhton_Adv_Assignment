{
 "cells": [
  {
   "cell_type": "raw",
   "id": "9575e8b1",
   "metadata": {},
   "source": [
    "Q1. Define the relationship between a class and its instances. Is it a one-to-one or a one-to-many\n",
    "partnership, for example?\n",
    "\n",
    "Q2. What kind of data is held only in an instance?\n",
    "\n",
    "Q3. What kind of knowledge is stored in a class?\n",
    "\n",
    "Q4. What exactly is a method, and how is it different from a regular function?\n",
    "\n",
    "Q5. Is inheritance supported in Python, and if so, what is the syntax?\n",
    "\n",
    "Q6. How much encapsulation (making instance or class variables private) does Python support?\n",
    "\n",
    "Q7. How do you distinguish between a class variable and an instance variable?\n",
    "\n",
    "Q8. When, if ever, can self be included in a class&#39;s method definitions?\n",
    "\n",
    "Q9. What is the difference between the _ _add_ _ and the _ _radd_ _ methods?\n",
    "\n",
    "Q10. When is it necessary to use a reflection method? When do you not need it, even though you\n",
    "support the operation in question?\n",
    "\n",
    "Q11. What is the _ _iadd_ _ method called?\n",
    "\n",
    "Q12. Is the _ _init_ _ method inherited by subclasses? What do you do if you need to customize its\n",
    "behavior within a subclass?"
   ]
  },
  {
   "cell_type": "raw",
   "id": "82232b70",
   "metadata": {},
   "source": [
    "#1\n",
    "The relationship between a class and its instances is a one-to-many partnership. A class serves as a blueprint or template for creating multiple instances of objects. Each instance is a unique object with its own set of attributes and data, but all instances share the same structure and behavior defined by the class.\n",
    "\n",
    "#2\n",
    "Instances hold specific data that is unique to each object. These data attributes store values that are specific to an instance and can vary from one instance to another. Each instance has its own set of data attributes, allowing objects to have different states and values.\n",
    "\n",
    "#3\n",
    "Classes store knowledge in the form of class variables and methods. Class variables are shared among all instances of the class and hold data that is common to all objects. They define the characteristics and attributes that are shared by instances. Methods, on the other hand, are functions defined within the class and are responsible for performing actions and implementing behavior associated with the class.\n"
   ]
  },
  {
   "cell_type": "raw",
   "id": "1d525217",
   "metadata": {},
   "source": [
    "#4\n",
    "A method is a function that is defined within a class and operates on instances of that class. It is different from a regular function in that it is associated with a class and can access and manipulate the instance's data and attributes. Methods are defined using the def keyword within the class body and are called on instances of the class using dot notation.\n",
    "\n",
    "#5\n",
    "\n",
    "Yes, inheritance is supported in Python. The syntax for inheritance is as follows:\n",
    "\n",
    "class ChildClass(ParentClass):\n",
    "    # ChildClass inherits attributes and methods from ParentClass\n",
    "    # Additional attributes and methods can be defined here\n",
    "    \n",
    "The child class (subclass) is defined by specifying the parent class (superclass) in parentheses after the class name. The child class inherits all the attributes and methods from the parent class and can also define its own attributes and methods."
   ]
  },
  {
   "cell_type": "raw",
   "id": "4500c0ac",
   "metadata": {},
   "source": [
    "#6\n",
    "Python supports a limited form of encapsulation through name mangling. By prefixing an instance or class variable with double underscores (e.g., __variable), Python performs name mangling, which changes the variable name to _ClassName__variable. This makes the variable \"private\" in the sense that it becomes harder to access directly from outside the class. However, it is still possible to access and modify these variables if desired, so Python's encapsulation is not as strict as in some other languages."
   ]
  },
  {
   "cell_type": "raw",
   "id": "0565def3",
   "metadata": {},
   "source": [
    "#7\n",
    "A class variable is shared among all instances of a class and is defined within the class but outside any methods. It is accessed using the class name or through any instance of the class. An instance variable, on the other hand, is specific to each instance and is defined within the methods of the class. It is accessed and modified using the specific instance name. Class variables are shared, while instance variables are unique to each instance.\n",
    "\n",
    "#8\n",
    "The self parameter is included in a class's method definitions to refer to the instance that the method is being called on. It is a convention in Python to include self as the first parameter in instance methods. When a method is called on an instance, self implicitly refers to that instance, allowing the method to access and manipulate the instance's data and attributes.\n",
    "\n",
    "#9\n",
    "The __add__ method is used to define the behavior of the addition operator (+) when applied to objects of a class. It is called when the addition operation is performed with the object on the left-hand side. The __radd__ method, on the other hand, is called when the object is on the right-hand side of the addition operation and the left-hand side object does not support addition with the object's type. The __radd__ method provides a fallback behavior to handle the addition operation in such cases."
   ]
  },
  {
   "cell_type": "raw",
   "id": "1a66b8ed",
   "metadata": {},
   "source": [
    "#10\n",
    "Reflection methods, such as getattr() and hasattr(), are used when you need to access or manipulate attributes or methods of an object dynamically at runtime. They allow you to examine the object's structure, retrieve attribute values, check for the existence of attributes or methods, and perform operations based on the object's properties. Reflection methods are useful in scenarios where you need to create flexible and dynamic code that adapts to different objects or situations.\n",
    "\n",
    "However, reflection methods are not always needed. If you have prior knowledge of the object's structure and can directly access its attributes and methods, there may be no need for reflection. Reflection adds flexibility but can also make the code more complex and less efficient, so it should be used judiciously.\n",
    "\n",
    "#11\n",
    "\n",
    "The __iadd__ method is called when the in-place addition operator (+=) is used on objects of a class. It allows the object to define its behavior for in-place addition. The __iadd__ method modifies the object itself rather than creating a new object.\n",
    "\n",
    "#12\n",
    "\n",
    "The __init__ method is not inherited by subclasses automatically. However, if a subclass defines its own __init__ method, it can call the __init__ method of the parent class using super().__init__() within its own __init__ implementation. This allows the subclass to customize its initialization process while also inheriting and utilizing the initialization logic of the parent class. Calling super().__init__() ensures that the parent class's __init__ method is executed before any additional customization specific to the subclass."
   ]
  },
  {
   "cell_type": "raw",
   "id": "9cae63eb",
   "metadata": {},
   "source": []
  },
  {
   "cell_type": "raw",
   "id": "e6142847",
   "metadata": {},
   "source": []
  },
  {
   "cell_type": "raw",
   "id": "ade878ea",
   "metadata": {},
   "source": []
  },
  {
   "cell_type": "raw",
   "id": "7643b807",
   "metadata": {},
   "source": []
  },
  {
   "cell_type": "raw",
   "id": "116f942d",
   "metadata": {},
   "source": []
  },
  {
   "cell_type": "raw",
   "id": "66b2529a",
   "metadata": {},
   "source": []
  },
  {
   "cell_type": "raw",
   "id": "493a2d88",
   "metadata": {},
   "source": []
  },
  {
   "cell_type": "raw",
   "id": "7a18b540",
   "metadata": {},
   "source": []
  },
  {
   "cell_type": "raw",
   "id": "8c275a54",
   "metadata": {},
   "source": []
  },
  {
   "cell_type": "raw",
   "id": "6607fdd9",
   "metadata": {},
   "source": []
  },
  {
   "cell_type": "raw",
   "id": "a5b61086",
   "metadata": {},
   "source": []
  },
  {
   "cell_type": "raw",
   "id": "569bd5ff",
   "metadata": {},
   "source": []
  },
  {
   "cell_type": "raw",
   "id": "ee381892",
   "metadata": {},
   "source": []
  }
 ],
 "metadata": {
  "kernelspec": {
   "display_name": "Python 3 (ipykernel)",
   "language": "python",
   "name": "python3"
  },
  "language_info": {
   "codemirror_mode": {
    "name": "ipython",
    "version": 3
   },
   "file_extension": ".py",
   "mimetype": "text/x-python",
   "name": "python",
   "nbconvert_exporter": "python",
   "pygments_lexer": "ipython3",
   "version": "3.10.9"
  }
 },
 "nbformat": 4,
 "nbformat_minor": 5
}
