{
 "cells": [
  {
   "cell_type": "markdown",
   "id": "28019635",
   "metadata": {},
   "source": [
    "Q1. If you have any, what are your choices for increasing the comparison between different figures on\n",
    "the same graph?\n",
    "\n",
    "Q2. Can you explain the benefit of compound interest over a higher rate of interest that does not\n",
    "compound after reading this chapter?\n",
    "\n",
    "Q3. What is a histogram, exactly? Name a numpy method for creating such a graph.\n",
    "\n",
    "Q4. If necessary, how do you change the aspect ratios between the X and Y axes?\n",
    "\n",
    "Q5. Compare and contrast the three types of array multiplication between two numpy arrays: dot\n",
    "product, outer product, and regular multiplication of two numpy arrays.\n",
    "\n",
    "Q6. Before you buy a home, which numpy function will you use to measure your monthly mortgage\n",
    "payment?\n",
    "\n",
    "Q7. Can string data be stored in numpy arrays? If so, list at least one restriction that applies to this\n",
    "data."
   ]
  },
  {
   "cell_type": "markdown",
   "id": "d4197b3e",
   "metadata": {},
   "source": [
    "#1\n",
    "To increase the comparison between different figures on the same graph, you can make use of various techniques:\n",
    "\n",
    "Adjusting the scale: You can adjust the scale of the axes to zoom in or out on specific regions of the graph, making the differences more apparent.\n",
    "Using different colors or patterns: Assigning different colors or patterns to different figures on the graph can help visually distinguish them.\n",
    "Adding labels and legends: Clearly labeling the figures and adding a legend to the graph can make it easier to understand and compare the different elements.\n",
    "Using markers or data points: Plotting markers or data points on the graph can provide a clearer representation of individual data values, aiding in the comparison.\n"
   ]
  },
  {
   "cell_type": "markdown",
   "id": "66f0365b",
   "metadata": {},
   "source": [
    "#2\n",
    "Compound interest is beneficial over a higher rate of interest that does not compound because compound interest allows your investment or savings to grow exponentially over time. With compound interest, the interest is calculated not only on the initial principal but also on the accumulated interest from previous periods. This compounding effect leads to a significant increase in the overall returns or savings compared to simple interest, where the interest is only calculated on the principal amount. Over a longer period, compound interest can result in much higher returns or savings, helping to maximize the growth of your investment or savings."
   ]
  },
  {
   "cell_type": "markdown",
   "id": "c54417aa",
   "metadata": {},
   "source": [
    "#3\n",
    "\n",
    "A histogram is a graphical representation of the distribution of a dataset. It consists of a series of bars, where the height of each bar represents the frequency or count of observations falling within a specific range or bin. NumPy provides the numpy.histogram method for creating a histogram. Given a dataset, this method computes the histogram values and the bin edges. The resulting histogram can then be plotted using other libraries like Matplotlib.\n",
    "\n"
   ]
  },
  {
   "cell_type": "markdown",
   "id": "73369337",
   "metadata": {},
   "source": [
    "#4\n",
    " To change the aspect ratios between the X and Y axes in a plot, you can use the matplotlib.pyplot.axis function. By specifying the aspect parameter, you can control the aspect ratio of the plot. For example, setting aspect='auto' allows the plot to automatically adjust the aspect ratio based on the data and the size of the plot. You can also set a specific aspect ratio value, such as aspect='equal', to enforce equal scaling between the X and Y axes."
   ]
  },
  {
   "cell_type": "markdown",
   "id": "cdb69bb1",
   "metadata": {},
   "source": [
    "#5\n",
    "The three types of array multiplication between two NumPy arrays are:\n",
    "\n",
    "Dot product: The dot product of two arrays is obtained using the numpy.dot function or the @ operator. It performs matrix multiplication for 2D arrays or inner product for 1D arrays. The resulting array's shape is determined by the dimensions of the input arrays.\n",
    "Outer product: The outer product of two arrays is obtained using the numpy.outer function. It calculates the outer product of the two input arrays, resulting in a new array with a shape determined by the dimensions of the input arrays. The outer product calculates the product of each element from the first array with each element from the second array.\n",
    "Regular multiplication: Regular multiplication of two NumPy arrays using the * operator performs element-wise multiplication. Each element in the resulting array is the product of the corresponding elements from the input arrays. The arrays must have the same shape for element-wise multiplication.\n",
    "In summary, the dot product performs matrix multiplication or inner product, the outer product calculates the product for all combinations of elements, and regular multiplication performs element-wise multiplication."
   ]
  },
  {
   "cell_type": "markdown",
   "id": "ecabab52",
   "metadata": {},
   "source": [
    "#6\n",
    "Before buying a home, you can use the numpy.pmt function (payment) to measure your monthly mortgage payment. This function calculates the fixed monthly payment required to repay a loan based on a fixed interest rate, loan term, and loan amount. It takes parameters such as the interest rate per period, the number of periods, and the loan amount, and returns the monthly payment amount. By using this function, you can estimate your monthly mortgage payment and plan your budget accordingly."
   ]
  },
  {
   "cell_type": "markdown",
   "id": "2c79ab73",
   "metadata": {},
   "source": [
    "#7\n",
    "\n",
    "es, string data can be stored in NumPy arrays. However, there are some restrictions when working with string data in NumPy arrays:\n",
    "\n",
    "Fixed-length strings: NumPy arrays require fixed-length strings, meaning all strings in the array must have the same length. If a longer string is assigned to a fixed-length string array, it will be truncated to fit the specified length.\n",
    "Performance impact: Operations on string arrays can have a higher computational cost compared to numerical arrays. String operations in NumPy are not as optimized as numerical operations, so working with large string arrays can be slower.\n",
    "Limited string manipulation: NumPy does not provide extensive string manipulation capabilities like regular expressions or advanced string methods. For more advanced string processing, it is often better to use libraries specifically designed for string operations, such as Python's built-in string methods or the str class.\n",
    "Overall, while string data can be stored in NumPy arrays, it is important to consider the limitations and potential performance impact when working with string arrays in NumPy."
   ]
  },
  {
   "cell_type": "markdown",
   "id": "ca892cc5",
   "metadata": {},
   "source": []
  },
  {
   "cell_type": "markdown",
   "id": "c719b81f",
   "metadata": {},
   "source": []
  },
  {
   "cell_type": "markdown",
   "id": "0172d6e1",
   "metadata": {},
   "source": []
  },
  {
   "cell_type": "markdown",
   "id": "79db3047",
   "metadata": {},
   "source": []
  }
 ],
 "metadata": {
  "kernelspec": {
   "display_name": "Python 3 (ipykernel)",
   "language": "python",
   "name": "python3"
  },
  "language_info": {
   "codemirror_mode": {
    "name": "ipython",
    "version": 3
   },
   "file_extension": ".py",
   "mimetype": "text/x-python",
   "name": "python",
   "nbconvert_exporter": "python",
   "pygments_lexer": "ipython3",
   "version": "3.10.9"
  }
 },
 "nbformat": 4,
 "nbformat_minor": 5
}
