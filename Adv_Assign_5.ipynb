{
 "cells": [
  {
   "cell_type": "code",
   "execution_count": null,
   "id": "923074b4",
   "metadata": {},
   "outputs": [],
   "source": [
    "Q1. What is the meaning of multiple inheritance?\n",
    "\n",
    "Q2. What is the concept of delegation?\n",
    "\n",
    "Q3. What is the concept of composition?\n",
    "\n",
    "Q4. What are bound methods and how do we use them?\n",
    "\n",
    "Q5. What is the purpose of pseudoprivate attributes?"
   ]
  },
  {
   "cell_type": "raw",
   "id": "f1de5fd2",
   "metadata": {},
   "source": [
    "#1\n",
    "Multiple inheritance refers to the ability of a class to inherit attributes and methods from multiple parent classes. In languages that support multiple inheritance, a class can have more than one direct superclass, allowing it to inherit and combine the characteristics and behavior of multiple classes. This enables code reuse and flexibility in designing class hierarchies. However, multiple inheritance can also introduce complexity and potential conflicts when two or more parent classes define methods or attributes with the same name."
   ]
  },
  {
   "cell_type": "raw",
   "id": "ab50f48c",
   "metadata": {},
   "source": [
    "#2\n",
    "\n",
    "The concept of delegation involves one object passing a method or responsibility to another object to perform the actual work. Rather than implementing the functionality directly, an object delegates the task to another object that specializes in that functionality. This promotes code reuse, modularity, and separation of concerns. Delegation is often used to achieve composition over inheritance, as it allows objects to collaborate and share responsibilities without being tightly coupled through inheritance relationships."
   ]
  },
  {
   "cell_type": "raw",
   "id": "bfc9955d",
   "metadata": {},
   "source": [
    "#3\n",
    "\n",
    "Composition is a design principle in object-oriented programming that involves constructing complex objects by combining simpler objects or components. It allows objects to have other objects as their attributes, forming a \"has-a\" relationship. The composed objects are typically responsible for specific aspects of the behavior or functionality of the containing object. Composition promotes code reuse, modularity, and flexibility, as objects can be easily replaced or modified without affecting the entire system."
   ]
  },
  {
   "cell_type": "raw",
   "id": "308f6825",
   "metadata": {},
   "source": [
    "#4\n",
    "Bound methods are methods that are associated with a specific instance of a class. When a method is accessed through an instance of a class, it becomes a bound method, and the instance is automatically passed as the first argument (usually named self). Bound methods are the primary way to interact with an object's attributes and behavior. They allow access to the instance's state and enable the method to operate on the specific instance data. Bound methods are invoked using dot notation, such as instance.method(), and the instance is implicitly passed as the first argument."
   ]
  },
  {
   "cell_type": "raw",
   "id": "f7f02ce5",
   "metadata": {},
   "source": [
    "#5\n",
    "Pseudoprivate attributes (sometimes called name mangling) are a naming convention in Python that allows attributes to be prefixed with two leading underscores (__). These attributes are automatically transformed by the Python interpreter, adding the class name as a prefix to avoid naming conflicts in subclasses. The purpose of pseudoprivate attributes is to provide a form of name isolation, making the attribute less likely to collide with other attributes in subclasses or other classes. It serves as a way to indicate that an attribute is intended for internal use within the class and should not be accessed or modified directly from outside the class. However, it's worth noting that pseudoprivate attributes can still be accessed using the _ClassName__attribute syntax, although it is generally discouraged in favor of using public interfaces provided by the class."
   ]
  },
  {
   "cell_type": "code",
   "execution_count": null,
   "id": "35e72110",
   "metadata": {},
   "outputs": [],
   "source": []
  },
  {
   "cell_type": "code",
   "execution_count": null,
   "id": "409a59a6",
   "metadata": {},
   "outputs": [],
   "source": []
  },
  {
   "cell_type": "code",
   "execution_count": null,
   "id": "c4bd6ebc",
   "metadata": {},
   "outputs": [],
   "source": []
  },
  {
   "cell_type": "code",
   "execution_count": null,
   "id": "f9f9f5a2",
   "metadata": {},
   "outputs": [],
   "source": []
  },
  {
   "cell_type": "code",
   "execution_count": null,
   "id": "b2908a58",
   "metadata": {},
   "outputs": [],
   "source": []
  }
 ],
 "metadata": {
  "kernelspec": {
   "display_name": "Python 3 (ipykernel)",
   "language": "python",
   "name": "python3"
  },
  "language_info": {
   "codemirror_mode": {
    "name": "ipython",
    "version": 3
   },
   "file_extension": ".py",
   "mimetype": "text/x-python",
   "name": "python",
   "nbconvert_exporter": "python",
   "pygments_lexer": "ipython3",
   "version": "3.10.9"
  }
 },
 "nbformat": 4,
 "nbformat_minor": 5
}
