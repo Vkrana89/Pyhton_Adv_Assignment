{
 "cells": [
  {
   "cell_type": "markdown",
   "id": "996c4705",
   "metadata": {},
   "source": [
    "1. Compare and contrast the float and Decimal classes&#39; benefits and drawbacks.\n",
    "\n",
    "2. Decimal(&#39;1.200&#39;) and Decimal(&#39;1.2&#39;) are two objects to consider. In what sense are these the same\n",
    "object? Are these just two ways of representing the exact same value, or do they correspond to\n",
    "different internal states?\n",
    "\n",
    "3. What happens if the equality of Decimal(&#39;1.200&#39;) and Decimal(&#39;1.2&#39;) is checked?\n",
    "\n",
    "4. Why is it preferable to start a Decimal object with a string rather than a floating-point value?\n",
    "\n",
    "5. In an arithmetic phrase, how simple is it to combine Decimal objects with integers?\n",
    "\n",
    "6. Can Decimal objects and floating-point values be combined easily?\n",
    "\n",
    "7. Using the Fraction class but not the Decimal class, give an example of a quantity that can be\n",
    "expressed with absolute precision.\n",
    "\n",
    "8. Describe a quantity that can be accurately expressed by the Decimal or Fraction classes but not by\n",
    "a floating-point value.\n",
    "\n",
    "Q9.Consider the following two fraction objects: Fraction(1, 2) and Fraction(1, 2). (5, 10). Is the internal\n",
    "state of these two objects the same? Why do you think that is?\n",
    "\n",
    "Q10. How do the Fraction class and the integer type (int) relate to each other? Containment or\n",
    "inheritance?"
   ]
  },
  {
   "cell_type": "markdown",
   "id": "4736d2f6",
   "metadata": {},
   "source": [
    "#1\n",
    "The float and Decimal classes in Python have different benefits and drawbacks.\n",
    "The float class represents floating-point numbers using the native floating-point representation of the underlying system. Floats provide a wide range of values and are generally faster for mathematical operations. However, they have limited precision and can suffer from rounding errors in calculations, leading to inaccuracies, especially when dealing with decimal values.\n",
    "\n",
    "On the other hand, the Decimal class represents decimal numbers using a base-10 representation. Decimals provide precise decimal arithmetic and allow control over rounding and precision. They are suitable for financial and monetary calculations where exact decimal precision is required. However, Decimal operations can be slower and consume more memory compared to floats.\n",
    "\n",
    "\n",
    "#2\n",
    "\n",
    "Decimal('1.200') and Decimal('1.2') are not the same object. They correspond to different internal states. The string representations of the decimals differ in terms of the number of significant digits and trailing zeros. Although they represent the same value mathematically, they are distinct Decimal objects.\n",
    "\n",
    "\n",
    "#3\n",
    "\n",
    "\n",
    "If the equality of Decimal('1.200') and Decimal('1.2') is checked using the == operator, it will return False. The comparison considers the internal states of the Decimal objects, and since they have different representations with trailing zeros, they are considered unequal."
   ]
  },
  {
   "cell_type": "markdown",
   "id": "85c3220f",
   "metadata": {},
   "source": [
    "#4\n",
    "It is preferable to start a Decimal object with a string rather than a floating-point value to avoid the potential rounding errors and inaccuracies associated with floating-point representations. By using a string, you ensure the exact decimal representation is preserved without any intermediate approximation.\n",
    "\n",
    "\n",
    "#5\n",
    "Combining Decimal objects with integers in arithmetic operations is straightforward. The Decimal class supports arithmetic operations with integers seamlessly, allowing for precise calculations. For example, adding a Decimal object and an integer can be done simply by using the + operator, and the result will be a Decimal object.\n",
    "\n",
    "\n",
    "#6\n",
    "\n",
    "Combining Decimal objects and floating-point values may require explicit conversion or careful handling. While the Decimal class can handle conversions between Decimal and float, the precision and accuracy of the floating-point value may impact the final result. It is recommended to convert the float to a Decimal object explicitly to maintain precision and control over rounding.\n",
    "\n",
    "\n",
    "#7\n",
    "\n",
    "\n",
    "Using the Fraction class, an example of a quantity that can be expressed with absolute precision is a fraction like Fraction(1, 3). Fractions represent rational numbers precisely and can express any fraction with absolute accuracy without rounding errors.\n",
    "\n",
    "\n",
    "#8\n",
    "A quantity that can be accurately expressed by the Decimal or Fraction classes but not by a floating-point value is a decimal fraction like 1/3 or 0.1. Floats may introduce rounding errors or approximations when representing such decimal fractions, leading to inaccuracies in calculations."
   ]
  },
  {
   "cell_type": "markdown",
   "id": "6ebff141",
   "metadata": {},
   "source": [
    "#9\n",
    "The internal state of Fraction(1, 2) and Fraction(1, 2). (5, 10) is not the same. Although the fractions mathematically represent the same value of 1/2, they are distinct Fraction objects. The internal state includes both the numerator and denominator, and in this case, the second Fraction has a different numerator (5) and denominator (10) compared to the first Fraction.\n",
    "\n",
    "\n",
    "#10\n",
    "\n",
    "The Fraction class and the integer type (int) relate to each other through containment. The Fraction class provides a way to represent rational numbers with numerator and denominator, and integers can be used as arguments to create Fraction objects directly. Integers can be considered as a special case of fractions where the denominator is always 1."
   ]
  },
  {
   "cell_type": "markdown",
   "id": "8b73ecad",
   "metadata": {},
   "source": []
  },
  {
   "cell_type": "markdown",
   "id": "bd4dfbc8",
   "metadata": {},
   "source": []
  },
  {
   "cell_type": "markdown",
   "id": "f45bb9aa",
   "metadata": {},
   "source": []
  },
  {
   "cell_type": "markdown",
   "id": "ff91692a",
   "metadata": {},
   "source": []
  },
  {
   "cell_type": "markdown",
   "id": "8032a44e",
   "metadata": {},
   "source": []
  },
  {
   "cell_type": "markdown",
   "id": "b4df95c8",
   "metadata": {},
   "source": []
  },
  {
   "cell_type": "markdown",
   "id": "b99ec200",
   "metadata": {},
   "source": []
  },
  {
   "cell_type": "markdown",
   "id": "aa707ba7",
   "metadata": {},
   "source": []
  },
  {
   "cell_type": "markdown",
   "id": "a2a54dd5",
   "metadata": {},
   "source": []
  },
  {
   "cell_type": "markdown",
   "id": "d9c3d00f",
   "metadata": {},
   "source": []
  },
  {
   "cell_type": "markdown",
   "id": "854c4fb3",
   "metadata": {},
   "source": []
  },
  {
   "cell_type": "markdown",
   "id": "5ae58e33",
   "metadata": {},
   "source": []
  },
  {
   "cell_type": "markdown",
   "id": "117b53a8",
   "metadata": {},
   "source": []
  }
 ],
 "metadata": {
  "kernelspec": {
   "display_name": "Python 3 (ipykernel)",
   "language": "python",
   "name": "python3"
  },
  "language_info": {
   "codemirror_mode": {
    "name": "ipython",
    "version": 3
   },
   "file_extension": ".py",
   "mimetype": "text/x-python",
   "name": "python",
   "nbconvert_exporter": "python",
   "pygments_lexer": "ipython3",
   "version": "3.10.9"
  }
 },
 "nbformat": 4,
 "nbformat_minor": 5
}
