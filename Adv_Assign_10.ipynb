{
 "cells": [
  {
   "cell_type": "markdown",
   "id": "06f4d484",
   "metadata": {},
   "source": [
    "Q1. What is the difference between __getattr__ and __getattribute__?\n",
    "\n",
    "Q2. What is the difference between properties and descriptors?\n",
    "\n",
    "Q3. What are the key differences in functionality between __getattr__ and __getattribute__, as well as\n",
    "properties and descriptors?"
   ]
  },
  {
   "cell_type": "markdown",
   "id": "e85b3c67",
   "metadata": {},
   "source": [
    "#1\n",
    "The main difference between __getattr__ and __getattribute__ is as follows:\n",
    "\n",
    "__getattr__ is a special method that is called only when the attribute being accessed is not found through the normal lookup process. It is invoked when an attribute is accessed and not found in the object's instance dictionary or its class hierarchy. It allows you to define a fallback behavior for attribute access.\n",
    "\n",
    "__getattribute__ is a more general method that is called for every attribute access, whether the attribute is found or not. It is invoked before checking the instance dictionary or the class hierarchy. __getattribute__ allows you to define a behavior for all attribute access and can be used for implementing attribute interception and customization.\n",
    "\n",
    "In summary, __getattr__ is called when the attribute is not found, while __getattribute__ is called for every attribute access."
   ]
  },
  {
   "cell_type": "markdown",
   "id": "2d2e261b",
   "metadata": {},
   "source": [
    "#2\n",
    "\n",
    "Properties and descriptors are both mechanisms in Python for achieving attribute access control and customization. The main difference between them is:\n",
    "\n",
    "Properties: Properties are a high-level Pythonic way of defining managed attributes. They allow you to define methods that are automatically invoked when getting, setting, or deleting an attribute. Properties are created using the @property decorator and associated methods (getter, setter, deleter) to define the attribute's behavior. Properties provide a convenient syntax for accessing and modifying attributes while maintaining control over attribute access.\n",
    "\n",
    "Descriptors: Descriptors are a lower-level mechanism for attribute access control. They allow you to define a separate descriptor class that provides __get__, __set__, or __delete__ methods. Descriptors are typically used by defining a descriptor class and assigning an instance of that class to a class attribute. When the attribute is accessed, the descriptor's methods are invoked, allowing you to customize attribute access and behavior in a more granular way."
   ]
  },
  {
   "cell_type": "markdown",
   "id": "c8ceaf55",
   "metadata": {},
   "source": [
    "#3\n",
    "\n",
    "The key differences in functionality between __getattr__ and __getattribute__, as well as properties and descriptors, are as follows:\n",
    "\n",
    "__getattr__ vs. __getattribute__:\n",
    "\n",
    "__getattr__ is called only when the attribute is not found through the normal lookup process, providing a fallback behavior for attribute access. It allows you to handle attribute access errors gracefully and provide dynamic attributes.\n",
    "__getattribute__ is called for every attribute access, allowing you to intercept and customize attribute access at a lower level. It provides more control but requires careful handling to avoid infinite recursion when accessing attributes.\n",
    "Properties vs. Descriptors:\n",
    "\n",
    "Properties provide a high-level way to define managed attributes with methods like getter, setter, and deleter. They allow you to define attribute access behavior transparently, as if accessing a regular attribute, and can be used as decorators to enhance code readability.\n",
    "Descriptors offer a more flexible and low-level mechanism for attribute customization. They involve defining a separate descriptor class with __get__, __set__, or __delete__ methods. Descriptors give fine-grained control over attribute access and can be shared among multiple attributes."
   ]
  },
  {
   "cell_type": "markdown",
   "id": "ea80e0f6",
   "metadata": {},
   "source": []
  },
  {
   "cell_type": "markdown",
   "id": "6ceb48db",
   "metadata": {},
   "source": []
  },
  {
   "cell_type": "markdown",
   "id": "6b9fc3ac",
   "metadata": {},
   "source": []
  },
  {
   "cell_type": "markdown",
   "id": "b035bb1d",
   "metadata": {},
   "source": []
  },
  {
   "cell_type": "markdown",
   "id": "9f1fb44d",
   "metadata": {},
   "source": []
  },
  {
   "cell_type": "markdown",
   "id": "1d24748b",
   "metadata": {},
   "source": []
  },
  {
   "cell_type": "markdown",
   "id": "4bf1c94e",
   "metadata": {},
   "source": []
  },
  {
   "cell_type": "markdown",
   "id": "94d32f8f",
   "metadata": {},
   "source": []
  },
  {
   "cell_type": "markdown",
   "id": "3d1ef586",
   "metadata": {},
   "source": []
  },
  {
   "cell_type": "markdown",
   "id": "19657682",
   "metadata": {},
   "source": []
  }
 ],
 "metadata": {
  "kernelspec": {
   "display_name": "Python 3 (ipykernel)",
   "language": "python",
   "name": "python3"
  },
  "language_info": {
   "codemirror_mode": {
    "name": "ipython",
    "version": 3
   },
   "file_extension": ".py",
   "mimetype": "text/x-python",
   "name": "python",
   "nbconvert_exporter": "python",
   "pygments_lexer": "ipython3",
   "version": "3.10.9"
  }
 },
 "nbformat": 4,
 "nbformat_minor": 5
}
