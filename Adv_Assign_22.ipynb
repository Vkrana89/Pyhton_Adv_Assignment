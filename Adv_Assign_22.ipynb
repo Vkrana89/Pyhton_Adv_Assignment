{
 "cells": [
  {
   "cell_type": "markdown",
   "id": "00222443",
   "metadata": {},
   "source": [
    "Q1. What are the benefits of the built-in array package, if any?\n",
    "\n",
    "Q2. What are some of the array package&#39;s limitations?\n",
    "\n",
    "Q3. Describe the main differences between the array and numpy packages.\n",
    "\n",
    "Q4. Explain the distinctions between the empty, ones, and zeros functions.\n",
    "\n",
    "Q5. In the fromfunction function, which is used to construct new arrays, what is the role of the callable\n",
    "argument?\n",
    "\n",
    "Q6. What happens when a numpy array is combined with a single-value operand (a scalar, such as\n",
    "an int or a floating-point value) through addition, as in the expression A + n?\n",
    "\n",
    "Q7. Can array-to-scalar operations use combined operation-assign operators (such as += or *=)?\n",
    "What is the outcome?\n",
    "\n",
    "Q8. Does a numpy array contain fixed-length strings? What happens if you allocate a longer string to\n",
    "one of these arrays?\n",
    "\n",
    "Q9. What happens when you combine two numpy arrays using an operation like addition (+) or\n",
    "multiplication (*)? What are the conditions for combining two numpy arrays?\n",
    "\n",
    "Q10. What is the best way to use a Boolean array to mask another array?\n",
    "\n",
    "Q11. What are three different ways to get the standard deviation of a wide collection of data using\n",
    "both standard Python and its packages? Sort the three of them by how quickly they execute.\n",
    "\n",
    "12. What is the dimensionality of a Boolean mask-generated array?"
   ]
  },
  {
   "cell_type": "markdown",
   "id": "60792521",
   "metadata": {},
   "source": [
    "#1\n",
    "The built-in array package in Python provides a basic implementation of arrays. Some benefits of using the array package include:\n",
    "\n",
    "Efficient storage: Arrays in the array package are more memory efficient compared to lists because they store elements of the same type.\n",
    "Fast element access: Accessing elements in an array is faster than accessing elements in a list.\n",
    "Efficient manipulation: The array package provides functions for efficiently manipulating and performing operations on arrays."
   ]
  },
  {
   "cell_type": "markdown",
   "id": "43a8acd9",
   "metadata": {},
   "source": [
    "#2\n",
    " However, the array package has some limitations:\n",
    "\n",
    "Limited functionality: The array package offers limited functionality compared to more advanced libraries like NumPy.\n",
    "Only one-dimensional arrays: The array package only supports one-dimensional arrays, whereas NumPy supports multi-dimensional arrays.\n",
    "Limited data types: The array package supports a limited set of data types compared to NumPy.\n"
   ]
  },
  {
   "cell_type": "markdown",
   "id": "e5a17869",
   "metadata": {},
   "source": [
    "#3\n",
    " The main differences between the array package and the numpy package are:\n",
    "\n",
    "Functionality: NumPy is a powerful numerical computing library that provides extensive functionality for working with multi-dimensional arrays, mathematical functions, linear algebra operations, and more. The array package, on the other hand, provides a basic implementation of one-dimensional arrays.\n",
    "Multi-dimensional arrays: NumPy supports multi-dimensional arrays, while the array package only supports one-dimensional arrays.\n",
    "Performance: NumPy is optimized for performance and provides highly efficient array operations implemented in C, resulting in faster execution times compared to the array package."
   ]
  },
  {
   "cell_type": "markdown",
   "id": "00c4ad9f",
   "metadata": {},
   "source": [
    "#4\n",
    "In NumPy, the functions empty, ones, and zeros are used to create new arrays with specified shapes and data types:\n",
    "\n",
    "empty(shape, dtype): This function creates an array with uninitialized values. The shape parameter specifies the dimensions of the array, and the dtype parameter defines the data type of the elements.\n",
    "ones(shape, dtype): This function creates an array filled with ones. The shape parameter specifies the dimensions of the array, and the dtype parameter defines the data type of the elements.\n",
    "zeros(shape, dtype): This function creates an array filled with zeros. The shape parameter specifies the dimensions of the array, and the dtype parameter defines the data type of the elements.\n"
   ]
  },
  {
   "cell_type": "markdown",
   "id": "9ddca79b",
   "metadata": {},
   "source": [
    "#5\n",
    " In the fromfunction function of NumPy, the callable argument is a function that is called with the indices of the array as arguments and returns the value for each element in the array. It allows you to construct new arrays by specifying a function that computes the values based on the indices. The callable function is called for each element in the array to determine its value.\n",
    "\n"
   ]
  },
  {
   "cell_type": "markdown",
   "id": "79faf837",
   "metadata": {},
   "source": [
    "#6\n",
    "When a NumPy array A is combined with a single-value operand n through addition (A + n), each element in the array A is added by the scalar value n. This operation is applied element-wise, resulting in a new array with the same shape as A, where each element is the original value in A incremented by n."
   ]
  },
  {
   "cell_type": "markdown",
   "id": "dc19322f",
   "metadata": {},
   "source": [
    "#7\n",
    " Array-to-scalar operations in NumPy do not support combined operation-assign operators such as += or *=. If you try to use these operators, a TypeError will be raised. However, you can still perform scalar operations on arrays using regular arithmetic operators (+, -, *, /) by assigning the result to a new or existing array.\n",
    "\n"
   ]
  },
  {
   "cell_type": "markdown",
   "id": "89d5bb43",
   "metadata": {},
   "source": [
    "#8\n",
    "Yes, a NumPy array can contain fixed-length strings. When you allocate a longer string to one of these arrays, the longer string will be truncated to fit the fixed length. No error or warning will be raised, but the longer part of the string will be cut off, potentially losing important information.\n",
    "\n"
   ]
  },
  {
   "cell_type": "markdown",
   "id": "1e35e197",
   "metadata": {},
   "source": [
    "#9\n",
    "When two NumPy arrays of the same shape are combined using an operation like addition (+) or multiplication (*), the operation is applied element-wise. The corresponding elements in both arrays are combined according to the operation. The result is a new array with the same shape as the original arrays, where each element is the result of the operation applied to the corresponding elements from the input arrays. The conditions for combining two arrays are that they must have the same shape or compatible shapes for broadcasting."
   ]
  },
  {
   "cell_type": "markdown",
   "id": "0191f461",
   "metadata": {},
   "source": [
    "#10\n",
    "o use a Boolean array as a mask to select specific elements from another array, you can simply index the array with the Boolean mask. The Boolean mask should have the same shape as the array you want to mask. The resulting array will contain only the elements from the original array corresponding to True values in the Boolean mask.\n",
    "Example:"
   ]
  },
  {
   "cell_type": "code",
   "execution_count": 1,
   "id": "0933da69",
   "metadata": {},
   "outputs": [
    {
     "name": "stdout",
     "output_type": "stream",
     "text": [
      "[1 3 5]\n"
     ]
    }
   ],
   "source": [
    "import numpy as np\n",
    "\n",
    "arr = np.array([1, 2, 3, 4, 5])\n",
    "mask = np.array([True, False, True, False, True])\n",
    "\n",
    "masked_arr = arr[mask]\n",
    "\n",
    "print(masked_arr)  # Output: [1 3 5]\n"
   ]
  },
  {
   "cell_type": "markdown",
   "id": "9ad2f0c4",
   "metadata": {},
   "source": [
    "#11\n",
    "Three different ways to calculate the standard deviation of a wide collection of data are:\n",
    "\n",
    "Using the statistics module from the standard Python library:\n",
    "Using the numpy package:\n",
    "Using the pandas library, which is built on top of NumPy\n",
    "The execution time can vary depending on the size of the data, but in general, using NumPy directly (np.std(data)) is likely to be the fastest among the three methods."
   ]
  },
  {
   "cell_type": "markdown",
   "id": "5a195c83",
   "metadata": {},
   "source": [
    "#12\n",
    "\n",
    "The dimensionality of a Boolean mask-generated array is the same as the array being masked. The Boolean mask is used to select specific elements from the original array, resulting in a new array with the same dimensionality as the original array. The elements not selected by the mask will have a value of False or be omitted from the resulting masked array."
   ]
  }
 ],
 "metadata": {
  "kernelspec": {
   "display_name": "Python 3 (ipykernel)",
   "language": "python",
   "name": "python3"
  },
  "language_info": {
   "codemirror_mode": {
    "name": "ipython",
    "version": 3
   },
   "file_extension": ".py",
   "mimetype": "text/x-python",
   "name": "python",
   "nbconvert_exporter": "python",
   "pygments_lexer": "ipython3",
   "version": "3.10.9"
  }
 },
 "nbformat": 4,
 "nbformat_minor": 5
}
