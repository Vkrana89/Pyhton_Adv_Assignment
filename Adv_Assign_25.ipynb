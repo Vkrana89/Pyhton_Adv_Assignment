{
 "cells": [
  {
   "cell_type": "markdown",
   "id": "edb55c80",
   "metadata": {},
   "source": [
    "Q1. What is the distinction between a numpy array and a pandas data frame? Is there a way to\n",
    "convert between the two if there is?\n",
    "\n",
    "Q2. What can go wrong when an user enters in a stock-ticker symbol, and how do you handle it?\n",
    "\n",
    "Q3. Identify some of the plotting techniques that are used to produce a stock-market chart.\n",
    "\n",
    "Q4. Why is it essential to print a legend on a stock market chart?\n",
    "\n",
    "Q5. What is the best way to limit the length of a pandas data frame to less than a year?\n",
    "\n",
    "Q6. What is the definition of a 180-day moving average?\n",
    "\n",
    "Q7. Did the chapter&#39;s final example use &quot;indirect&quot; importing? If so, how exactly do you do it?"
   ]
  },
  {
   "cell_type": "markdown",
   "id": "af878c35",
   "metadata": {},
   "source": [
    "#1\n",
    "The main distinction between a NumPy array and a pandas DataFrame is that a NumPy array is a homogeneous multidimensional array, while a pandas DataFrame is a two-dimensional labeled data structure with potentially heterogeneous columns. Here are some key differences:\n",
    "\n",
    "Data Structure: A NumPy array is a grid of values, all of the same data type, indexed by integers. In contrast, a pandas DataFrame is a tabular data structure with labeled rows and columns, allowing for different data types in each column.\n",
    "Flexibility: While a NumPy array provides efficient numerical operations and mathematical functions, a pandas DataFrame offers additional functionality like indexing, slicing, and merging datasets. It also supports handling missing data, time series data, and descriptive statistics.\n",
    "Indexing: NumPy arrays use positional indexing, while pandas DataFrames allow both positional and label-based indexing, providing more flexibility in accessing and manipulating data.\n",
    "Additional Functionality: pandas DataFrames provide built-in support for handling time series data, data alignment, handling missing values, and powerful data manipulation operations like pivoting, melting, grouping, and aggregation.\n",
    "You can convert a NumPy array to a pandas DataFrame using the pandas.DataFrame() constructor by passing the NumPy array as the data argument. Similarly, you can convert a pandas DataFrame to a NumPy array using the DataFrame.values attribute."
   ]
  },
  {
   "cell_type": "markdown",
   "id": "ac67244c",
   "metadata": {},
   "source": [
    "#2\n",
    "\n",
    "When a user enters a stock ticker symbol, several issues can arise, such as:\n",
    "\n",
    "Invalid or unrecognized symbol: The user might enter a symbol that is not valid or not recognized by the stock data provider or the application itself.\n",
    "\n",
    "Case sensitivity: Stock symbols are often case-sensitive, so the user's input might need to be properly formatted or validated.\n",
    "\n",
    "Network or API errors: Fetching stock data from external sources relies on network connectivity and APIs. If there are network issues or problems with the API, the retrieval of stock data can fail.\n",
    "\n",
    "Data availability: Stock data might not be available for certain symbols or certain time periods.\n",
    "To handle these issues, you can implement error handling and validation mechanisms. This may involve checking for valid symbols, handling exceptions and errors when retrieving data, providing informative error messages to the user, and offering suggestions or auto-completion for symbols."
   ]
  },
  {
   "cell_type": "markdown",
   "id": "123eb2bf",
   "metadata": {},
   "source": [
    "#3\n",
    "\n",
    "Line charts: Line charts are commonly used to plot the price movement of a stock over time. They show the trend and fluctuations in stock prices.\n",
    "\n",
    "Candlestick charts: Candlestick charts display the open, high, low, and close prices of a stock for each time period, typically representing one day. They provide more detailed information about the price range and volatility.\n",
    "\n",
    "Moving averages: Moving averages are used to smooth out price data and identify trends. Commonly used moving averages include the 50-day moving average and the 200-day moving average.\n",
    "\n",
    "Volume charts: Volume charts display the trading volume for each time period, helping to analyze the level of market participation and liquidity.\n"
   ]
  },
  {
   "cell_type": "markdown",
   "id": "5060c668",
   "metadata": {},
   "source": [
    "#4\n",
    "It is essential to print a legend on a stock market chart because it provides a key to interpreting the various elements or lines plotted on the chart. The legend helps identify what each line or element represents, such as the stock symbol, the moving average line, or the volume bar. It enhances the clarity and understanding of the chart, allowing the viewer to make informed interpretations and analysis of the displayed data."
   ]
  },
  {
   "cell_type": "markdown",
   "id": "2e01b551",
   "metadata": {},
   "source": [
    "#5\n",
    "The best way to limit the length of a pandas DataFrame to less than a year is to filter the DataFrame based on the desired time range. Assuming the DataFrame has a column representing the date or timestamp, you can use date-based indexing or filtering techniques. For example, you can create a boolean mask using a comparison operator on the date column and apply it to the DataFrame to select the rows within the desired date range. Here's an example:"
   ]
  },
  {
   "cell_type": "code",
   "execution_count": null,
   "id": "b1ac205d",
   "metadata": {},
   "outputs": [],
   "source": [
    "import pandas as pd\n",
    "\n",
    "# Assuming 'df' is the original DataFrame with a 'date' column\n",
    "start_date = '2022-01-01'\n",
    "end_date = '2022-12-31'\n",
    "\n",
    "# Filter the DataFrame based on the date range\n",
    "filtered_df = df[(df['date'] >= start_date) & (df['date'] <= end_date)]\n"
   ]
  },
  {
   "cell_type": "markdown",
   "id": "01abaaf6",
   "metadata": {},
   "source": [
    "#6\n",
    "A 180-day moving average is a calculation that smooths out a time series data by averaging the values over the last 180 days (or any specified number of days). It is commonly used in financial analysis to identify trends and remove short-term fluctuations. Each data point in the moving average represents the average of the previous 180 days of data. By plotting the moving average alongside the actual data, it helps visualize the long-term trend and identify potential reversal points.\n"
   ]
  },
  {
   "cell_type": "markdown",
   "id": "2ab6c3b8",
   "metadata": {},
   "source": [
    "#7\n",
    "Without the specific details of the chapter and example you are referring to, it is difficult to determine if \"indirect\" importing was used. However, if by \"indirect\" importing you mean importing a module indirectly through another module, it can be achieved by importing the desired module in the intermediate module and then importing the intermediate module in the final example module. This allows the final example module to access the functionality of the indirectly imported module via the intermediate module."
   ]
  },
  {
   "cell_type": "markdown",
   "id": "87dcfb82",
   "metadata": {},
   "source": []
  },
  {
   "cell_type": "markdown",
   "id": "5bfa27f0",
   "metadata": {},
   "source": []
  },
  {
   "cell_type": "markdown",
   "id": "40d9845d",
   "metadata": {},
   "source": []
  },
  {
   "cell_type": "markdown",
   "id": "15b8b5bc",
   "metadata": {},
   "source": []
  }
 ],
 "metadata": {
  "kernelspec": {
   "display_name": "Python 3 (ipykernel)",
   "language": "python",
   "name": "python3"
  },
  "language_info": {
   "codemirror_mode": {
    "name": "ipython",
    "version": 3
   },
   "file_extension": ".py",
   "mimetype": "text/x-python",
   "name": "python",
   "nbconvert_exporter": "python",
   "pygments_lexer": "ipython3",
   "version": "3.10.9"
  }
 },
 "nbformat": 4,
 "nbformat_minor": 5
}
