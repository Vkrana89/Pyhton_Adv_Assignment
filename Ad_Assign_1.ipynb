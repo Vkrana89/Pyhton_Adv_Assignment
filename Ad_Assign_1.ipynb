{
 "cells": [
  {
   "cell_type": "markdown",
   "id": "035492d8",
   "metadata": {},
   "source": [
    "Q1. What is the purpose of Python&#39;s OOP?\n",
    "\n",
    "Q2. Where does an inheritance search look for an attribute?\n",
    "\n",
    "Q3. How do you distinguish between a class object and an instance object?\n",
    "\n",
    "Q4. What makes the first argument in a class’s method function special?\n",
    "\n",
    "Q5. What is the purpose of the __init__ method?\n",
    "\n",
    "Q6. What is the process for creating a class instance?\n",
    "\n",
    "Q7. What is the process for creating a class?\n",
    "\n",
    "Q8. How would you define the superclasses of a class?"
   ]
  },
  {
   "cell_type": "markdown",
   "id": "2122763c",
   "metadata": {},
   "source": [
    "#1\n",
    "The purpose of Python's Object-Oriented Programming (OOP) is to provide a way to structure and organize code in a manner that promotes modularity, reusability, and maintainability. OOP allows you to define classes, which are blueprints for creating objects. It emphasizes the concept of objects that encapsulate data and behavior, enabling you to model real-world entities or abstract concepts in your code."
   ]
  },
  {
   "cell_type": "markdown",
   "id": "4e491278",
   "metadata": {},
   "source": [
    "#2\n",
    " Inheritance search, when looking for an attribute, follows a specific order called the Method Resolution Order (MRO). The search starts with the current class, then proceeds to its parent classes in a depth-first, left-to-right order. This means that the attribute is first searched in the current class, then in its immediate parent class, and so on, until it is found or all the parent classes have been searched."
   ]
  },
  {
   "cell_type": "markdown",
   "id": "6f21a3ee",
   "metadata": {},
   "source": [
    "#3\n",
    " In Python, a class object refers to the class itself, while an instance object refers to a specific instance (or object) created from that class. A class object can be used to access class-level attributes and methods, while an instance object represents a specific instance of the class with its own unique state and behavior."
   ]
  },
  {
   "cell_type": "markdown",
   "id": "f62c2255",
   "metadata": {},
   "source": [
    "#4\n",
    "The first argument in a class's method function is conventionally named self, although it can be any valid variable name. This argument refers to the instance object that the method is being called on. By convention, it is called self to indicate that it represents the instance itself. When you call a method on an instance object, Python automatically passes the instance object as the first argument (i.e., self) to the method. This allows the method to access and manipulate the instance's attributes and perform operations specific to that instance."
   ]
  },
  {
   "cell_type": "markdown",
   "id": "55c235e2",
   "metadata": {},
   "source": [
    "#5\n",
    " The __init__ method is a special method in Python classes. It is called the constructor and is automatically invoked when you create a new instance (object) from a class. The purpose of the __init__ method is to initialize the attributes of the instance object. It is where you typically define and assign initial values to the instance variables that define the state of the object. By defining the __init__ method, you can ensure that certain code is executed whenever a new instance of the class is created."
   ]
  },
  {
   "cell_type": "code",
   "execution_count": null,
   "id": "6dffe30a",
   "metadata": {},
   "outputs": [],
   "source": [
    "#6\n",
    "To create a class instance (object) in Python, you need to follow these steps:\n",
    "\n",
    "Define a class that specifies the blueprint for the object.\n",
    "Instantiate the class by calling it like a function, which creates a new instance of the class.\n",
    "Optionally, assign the instance to a variable to keep a reference to it.\n",
    "Here's an example that demonstrates the process:\n",
    "\n",
    "class MyClass:  # Step 1: Define the class\n",
    "    def __init__(self, value):  # Constructor\n",
    "        self.value = value\n",
    "\n",
    "instance = MyClass(42)  # Step 2: Instantiate the class\n",
    "print(instance.value)  # Output: 42\n"
   ]
  },
  {
   "cell_type": "markdown",
   "id": "f7fd98ad",
   "metadata": {},
   "source": [
    "#7\n",
    "The process for creating a class involves defining the class and specifying its attributes and methods. Here's an example of creating a class in Python:\n",
    "\n",
    "class MyClass:  # Step 1: Define the class\n",
    "    def __init__(self, value):  # Constructor\n",
    "        self.value = value\n",
    "\n",
    "    def my_method(self):  # Method\n",
    "        print(\"Hello from my_method!\")\n",
    "\n",
    "instance = MyClass(42)  # Step 2: Instantiate the class\n",
    "instance.my_method()  # Output: Hello from my_method!\n"
   ]
  },
  {
   "cell_type": "markdown",
   "id": "edfecc31",
   "metadata": {},
   "source": [
    "#8\n",
    "The superclasses of a class are the classes from which it directly or indirectly inherits. In Python, you can define a class to inherit from one or more superclasses by specifying them in the class definition using parentheses. The superclasses are also known as parent classes or base classes.\n",
    "\n",
    "For example, in the following code snippet, ClassB inherits from ClassA:\n",
    "    \n",
    "    class ClassA:\n",
    "    pass\n",
    "\n",
    "class ClassB(ClassA):  # ClassB is a subclass of ClassA\n",
    "    pass\n",
    "\n",
    "In this case, ClassA is the superclass of ClassB. If ClassB also has a superclass, that superclass would be considered a superclass of ClassA as well."
   ]
  },
  {
   "cell_type": "code",
   "execution_count": null,
   "id": "4e88398d",
   "metadata": {},
   "outputs": [],
   "source": []
  },
  {
   "cell_type": "code",
   "execution_count": null,
   "id": "811d2161",
   "metadata": {},
   "outputs": [],
   "source": []
  },
  {
   "cell_type": "code",
   "execution_count": null,
   "id": "b3b8503a",
   "metadata": {},
   "outputs": [],
   "source": []
  },
  {
   "cell_type": "code",
   "execution_count": null,
   "id": "a6d97c8c",
   "metadata": {},
   "outputs": [],
   "source": []
  }
 ],
 "metadata": {
  "kernelspec": {
   "display_name": "Python 3 (ipykernel)",
   "language": "python",
   "name": "python3"
  },
  "language_info": {
   "codemirror_mode": {
    "name": "ipython",
    "version": 3
   },
   "file_extension": ".py",
   "mimetype": "text/x-python",
   "name": "python",
   "nbconvert_exporter": "python",
   "pygments_lexer": "ipython3",
   "version": "3.10.9"
  }
 },
 "nbformat": 4,
 "nbformat_minor": 5
}
